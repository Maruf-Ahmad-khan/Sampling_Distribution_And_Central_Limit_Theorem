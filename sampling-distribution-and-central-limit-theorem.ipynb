{
 "cells": [
  {
   "cell_type": "code",
   "execution_count": 1,
   "id": "2868e80e",
   "metadata": {
    "_cell_guid": "b1076dfc-b9ad-4769-8c92-a6c4dae69d19",
    "_uuid": "8f2839f25d086af736a60e9eeb907d3b93b6e0e5",
    "execution": {
     "iopub.execute_input": "2023-12-19T22:00:31.082412Z",
     "iopub.status.busy": "2023-12-19T22:00:31.081862Z",
     "iopub.status.idle": "2023-12-19T22:00:31.693691Z",
     "shell.execute_reply": "2023-12-19T22:00:31.690131Z"
    },
    "papermill": {
     "duration": 0.626864,
     "end_time": "2023-12-19T22:00:31.697941",
     "exception": false,
     "start_time": "2023-12-19T22:00:31.071077",
     "status": "completed"
    },
    "tags": []
   },
   "outputs": [
    {
     "name": "stdout",
     "output_type": "stream",
     "text": [
      "/kaggle/input/titenic/submission4.csv\n",
      "/kaggle/input/titenic/__results__.html\n",
      "/kaggle/input/titenic/__notebook__.ipynb\n",
      "/kaggle/input/titenic/__output__.json\n",
      "/kaggle/input/titenic/custom.css\n",
      "/kaggle/input/titenic/__results___files/__results___15_1.png\n",
      "/kaggle/input/titenic/__results___files/__results___22_1.png\n"
     ]
    }
   ],
   "source": [
    "# This Python 3 environment comes with many helpful analytics libraries installed\n",
    "# It is defined by the kaggle/python Docker image: https://github.com/kaggle/docker-python\n",
    "# For example, here's several helpful packages to load\n",
    "\n",
    "import numpy as np # linear algebra\n",
    "import pandas as pd # data processing, CSV file I/O (e.g. pd.read_csv)\n",
    "\n",
    "# Input data files are available in the read-only \"../input/\" directory\n",
    "# For example, running this (by clicking run or pressing Shift+Enter) will list all files under the input directory\n",
    "\n",
    "import os\n",
    "for dirname, _, filenames in os.walk('/kaggle/input'):\n",
    "    for filename in filenames:\n",
    "        print(os.path.join(dirname, filename))\n",
    "\n",
    "# You can write up to 20GB to the current directory (/kaggle/working/) that gets preserved as output when you create a version using \"Save & Run All\" \n",
    "# You can also write temporary files to /kaggle/temp/, but they won't be saved outside of the current session"
   ]
  },
  {
   "cell_type": "code",
   "execution_count": 2,
   "id": "1b45d3e6",
   "metadata": {
    "execution": {
     "iopub.execute_input": "2023-12-19T22:00:31.717261Z",
     "iopub.status.busy": "2023-12-19T22:00:31.716637Z",
     "iopub.status.idle": "2023-12-19T22:00:31.760839Z",
     "shell.execute_reply": "2023-12-19T22:00:31.758847Z"
    },
    "papermill": {
     "duration": 0.057661,
     "end_time": "2023-12-19T22:00:31.764376",
     "exception": false,
     "start_time": "2023-12-19T22:00:31.706715",
     "status": "completed"
    },
    "tags": []
   },
   "outputs": [
    {
     "data": {
      "text/html": [
       "<div>\n",
       "<style scoped>\n",
       "    .dataframe tbody tr th:only-of-type {\n",
       "        vertical-align: middle;\n",
       "    }\n",
       "\n",
       "    .dataframe tbody tr th {\n",
       "        vertical-align: top;\n",
       "    }\n",
       "\n",
       "    .dataframe thead th {\n",
       "        text-align: right;\n",
       "    }\n",
       "</style>\n",
       "<table border=\"1\" class=\"dataframe\">\n",
       "  <thead>\n",
       "    <tr style=\"text-align: right;\">\n",
       "      <th></th>\n",
       "      <th>PassengerId</th>\n",
       "      <th>Survived</th>\n",
       "    </tr>\n",
       "  </thead>\n",
       "  <tbody>\n",
       "    <tr>\n",
       "      <th>0</th>\n",
       "      <td>892</td>\n",
       "      <td>0</td>\n",
       "    </tr>\n",
       "    <tr>\n",
       "      <th>1</th>\n",
       "      <td>893</td>\n",
       "      <td>1</td>\n",
       "    </tr>\n",
       "    <tr>\n",
       "      <th>2</th>\n",
       "      <td>894</td>\n",
       "      <td>0</td>\n",
       "    </tr>\n",
       "    <tr>\n",
       "      <th>3</th>\n",
       "      <td>895</td>\n",
       "      <td>0</td>\n",
       "    </tr>\n",
       "    <tr>\n",
       "      <th>4</th>\n",
       "      <td>896</td>\n",
       "      <td>1</td>\n",
       "    </tr>\n",
       "    <tr>\n",
       "      <th>...</th>\n",
       "      <td>...</td>\n",
       "      <td>...</td>\n",
       "    </tr>\n",
       "    <tr>\n",
       "      <th>413</th>\n",
       "      <td>1305</td>\n",
       "      <td>0</td>\n",
       "    </tr>\n",
       "    <tr>\n",
       "      <th>414</th>\n",
       "      <td>1306</td>\n",
       "      <td>1</td>\n",
       "    </tr>\n",
       "    <tr>\n",
       "      <th>415</th>\n",
       "      <td>1307</td>\n",
       "      <td>0</td>\n",
       "    </tr>\n",
       "    <tr>\n",
       "      <th>416</th>\n",
       "      <td>1308</td>\n",
       "      <td>0</td>\n",
       "    </tr>\n",
       "    <tr>\n",
       "      <th>417</th>\n",
       "      <td>1309</td>\n",
       "      <td>0</td>\n",
       "    </tr>\n",
       "  </tbody>\n",
       "</table>\n",
       "<p>418 rows × 2 columns</p>\n",
       "</div>"
      ],
      "text/plain": [
       "     PassengerId  Survived\n",
       "0            892         0\n",
       "1            893         1\n",
       "2            894         0\n",
       "3            895         0\n",
       "4            896         1\n",
       "..           ...       ...\n",
       "413         1305         0\n",
       "414         1306         1\n",
       "415         1307         0\n",
       "416         1308         0\n",
       "417         1309         0\n",
       "\n",
       "[418 rows x 2 columns]"
      ]
     },
     "execution_count": 2,
     "metadata": {},
     "output_type": "execute_result"
    }
   ],
   "source": [
    "data = pd.read_csv('/kaggle/input/titenic/submission4.csv')\n",
    "data"
   ]
  },
  {
   "cell_type": "code",
   "execution_count": 3,
   "id": "b7520e4c",
   "metadata": {
    "execution": {
     "iopub.execute_input": "2023-12-19T22:00:31.784037Z",
     "iopub.status.busy": "2023-12-19T22:00:31.783525Z",
     "iopub.status.idle": "2023-12-19T22:00:31.793781Z",
     "shell.execute_reply": "2023-12-19T22:00:31.792361Z"
    },
    "papermill": {
     "duration": 0.024515,
     "end_time": "2023-12-19T22:00:31.797381",
     "exception": false,
     "start_time": "2023-12-19T22:00:31.772866",
     "status": "completed"
    },
    "tags": []
   },
   "outputs": [
    {
     "data": {
      "text/plain": [
       "0    892\n",
       "1    893\n",
       "2    894\n",
       "3    895\n",
       "4    896\n",
       "Name: PassengerId, dtype: int64"
      ]
     },
     "execution_count": 3,
     "metadata": {},
     "output_type": "execute_result"
    }
   ],
   "source": [
    "# show the first 5 values of PassengerId attribute\n",
    "data['PassengerId'].head()"
   ]
  },
  {
   "cell_type": "code",
   "execution_count": 4,
   "id": "f9931f0d",
   "metadata": {
    "execution": {
     "iopub.execute_input": "2023-12-19T22:00:31.816774Z",
     "iopub.status.busy": "2023-12-19T22:00:31.815734Z",
     "iopub.status.idle": "2023-12-19T22:00:31.828728Z",
     "shell.execute_reply": "2023-12-19T22:00:31.827053Z"
    },
    "papermill": {
     "duration": 0.026501,
     "end_time": "2023-12-19T22:00:31.832246",
     "exception": false,
     "start_time": "2023-12-19T22:00:31.805745",
     "status": "completed"
    },
    "tags": []
   },
   "outputs": [
    {
     "data": {
      "text/plain": [
       "0"
      ]
     },
     "execution_count": 4,
     "metadata": {},
     "output_type": "execute_result"
    }
   ],
   "source": [
    "# to check null values PassengerId attribute\n",
    "data['PassengerId'].isnull().sum()"
   ]
  },
  {
   "cell_type": "code",
   "execution_count": 5,
   "id": "f7a37342",
   "metadata": {
    "execution": {
     "iopub.execute_input": "2023-12-19T22:00:31.852137Z",
     "iopub.status.busy": "2023-12-19T22:00:31.851618Z",
     "iopub.status.idle": "2023-12-19T22:00:31.862591Z",
     "shell.execute_reply": "2023-12-19T22:00:31.860719Z"
    },
    "papermill": {
     "duration": 0.025218,
     "end_time": "2023-12-19T22:00:31.866463",
     "exception": false,
     "start_time": "2023-12-19T22:00:31.841245",
     "status": "completed"
    },
    "tags": []
   },
   "outputs": [
    {
     "data": {
      "text/plain": [
       "1100.5"
      ]
     },
     "execution_count": 5,
     "metadata": {},
     "output_type": "execute_result"
    }
   ],
   "source": [
    "# Find PassengerId's mean\n",
    "PassengerId_mean = data['PassengerId'].mean()\n",
    "PassengerId_mean"
   ]
  },
  {
   "cell_type": "code",
   "execution_count": 6,
   "id": "3e330baf",
   "metadata": {
    "execution": {
     "iopub.execute_input": "2023-12-19T22:00:31.888161Z",
     "iopub.status.busy": "2023-12-19T22:00:31.886779Z",
     "iopub.status.idle": "2023-12-19T22:00:31.897353Z",
     "shell.execute_reply": "2023-12-19T22:00:31.895818Z"
    },
    "papermill": {
     "duration": 0.025782,
     "end_time": "2023-12-19T22:00:31.901483",
     "exception": false,
     "start_time": "2023-12-19T22:00:31.875701",
     "status": "completed"
    },
    "tags": []
   },
   "outputs": [
    {
     "data": {
      "text/plain": [
       "120.81045760473994"
      ]
     },
     "execution_count": 6,
     "metadata": {},
     "output_type": "execute_result"
    }
   ],
   "source": [
    "# Find PassengerId's std\n",
    "PassengerId_std = data['PassengerId'].std()\n",
    "PassengerId_std"
   ]
  },
  {
   "cell_type": "code",
   "execution_count": 7,
   "id": "1983a01b",
   "metadata": {
    "execution": {
     "iopub.execute_input": "2023-12-19T22:00:31.924340Z",
     "iopub.status.busy": "2023-12-19T22:00:31.922935Z",
     "iopub.status.idle": "2023-12-19T22:00:33.779078Z",
     "shell.execute_reply": "2023-12-19T22:00:33.776878Z"
    },
    "papermill": {
     "duration": 1.871993,
     "end_time": "2023-12-19T22:00:33.782359",
     "exception": false,
     "start_time": "2023-12-19T22:00:31.910366",
     "status": "completed"
    },
    "tags": []
   },
   "outputs": [
    {
     "data": {
      "text/plain": [
       "<Axes: ylabel='Density'>"
      ]
     },
     "execution_count": 7,
     "metadata": {},
     "output_type": "execute_result"
    },
    {
     "data": {
      "image/png": "[encoded data removed]",
      "text/plain": [
       "<Figure size 640x480 with 1 Axes>"
      ]
     },
     "metadata": {},
     "output_type": "display_data"
    }
   ],
   "source": [
    "# distribution of PassengerId \n",
    "import matplotlib.pyplot as plt\n",
    "data['PassengerId'].plot(kind = 'kde')"
   ]
  },
  {
   "cell_type": "code",
   "execution_count": 8,
   "id": "70fbb369",
   "metadata": {
    "execution": {
     "iopub.execute_input": "2023-12-19T22:00:33.803371Z",
     "iopub.status.busy": "2023-12-19T22:00:33.802270Z",
     "iopub.status.idle": "2023-12-19T22:00:33.826832Z",
     "shell.execute_reply": "2023-12-19T22:00:33.825345Z"
    },
    "papermill": {
     "duration": 0.038671,
     "end_time": "2023-12-19T22:00:33.830137",
     "exception": false,
     "start_time": "2023-12-19T22:00:33.791466",
     "status": "completed"
    },
    "tags": []
   },
   "outputs": [],
   "source": [
    "# Sample of 50 people and convert them into list\n",
    "samples = []\n",
    "for i in range(100):\n",
    "    samples.append(data['PassengerId'].sample(50).values.tolist())"
   ]
  },
  {
   "cell_type": "code",
   "execution_count": 9,
   "id": "661d04af",
   "metadata": {
    "execution": {
     "iopub.execute_input": "2023-12-19T22:00:33.850398Z",
     "iopub.status.busy": "2023-12-19T22:00:33.849902Z",
     "iopub.status.idle": "2023-12-19T22:00:33.859232Z",
     "shell.execute_reply": "2023-12-19T22:00:33.857798Z"
    },
    "papermill": {
     "duration": 0.023285,
     "end_time": "2023-12-19T22:00:33.862433",
     "exception": false,
     "start_time": "2023-12-19T22:00:33.839148",
     "status": "completed"
    },
    "tags": []
   },
   "outputs": [
    {
     "data": {
      "text/plain": [
       "100"
      ]
     },
     "execution_count": 9,
     "metadata": {},
     "output_type": "execute_result"
    }
   ],
   "source": [
    "len(samples)"
   ]
  },
  {
   "cell_type": "code",
   "execution_count": 10,
   "id": "5bfec399",
   "metadata": {
    "execution": {
     "iopub.execute_input": "2023-12-19T22:00:33.885681Z",
     "iopub.status.busy": "2023-12-19T22:00:33.885226Z",
     "iopub.status.idle": "2023-12-19T22:00:33.895594Z",
     "shell.execute_reply": "2023-12-19T22:00:33.894213Z"
    },
    "papermill": {
     "duration": 0.026083,
     "end_time": "2023-12-19T22:00:33.898688",
     "exception": false,
     "start_time": "2023-12-19T22:00:33.872605",
     "status": "completed"
    },
    "tags": []
   },
   "outputs": [
    {
     "data": {
      "text/plain": [
       "array([[1304,  981, 1023, ..., 1121,  967, 1286],\n",
       "       [1061,  998, 1192, ...,  979, 1103, 1179],\n",
       "       [1262,  932, 1142, ...,  906, 1111, 1301],\n",
       "       ...,\n",
       "       [ 954,  920, 1177, ..., 1285, 1163, 1220],\n",
       "       [ 917,  986, 1230, ..., 1069, 1097, 1014],\n",
       "       [1281, 1055, 1213, ..., 1059,  893,  999]])"
      ]
     },
     "execution_count": 10,
     "metadata": {},
     "output_type": "execute_result"
    }
   ],
   "source": [
    "samples = np.array(samples)\n",
    "samples"
   ]
  },
  {
   "cell_type": "code",
   "execution_count": 11,
   "id": "f9019b8a",
   "metadata": {
    "execution": {
     "iopub.execute_input": "2023-12-19T22:00:33.921203Z",
     "iopub.status.busy": "2023-12-19T22:00:33.920670Z",
     "iopub.status.idle": "2023-12-19T22:00:33.932714Z",
     "shell.execute_reply": "2023-12-19T22:00:33.930404Z"
    },
    "papermill": {
     "duration": 0.028518,
     "end_time": "2023-12-19T22:00:33.936721",
     "exception": false,
     "start_time": "2023-12-19T22:00:33.908203",
     "status": "completed"
    },
    "tags": []
   },
   "outputs": [
    {
     "data": {
      "text/plain": [
       "array([1111.64, 1097.64, 1112.4 , 1086.02, 1074.04, 1094.52, 1101.3 ,\n",
       "       1105.74, 1075.74, 1111.96, 1091.14, 1084.08, 1122.66, 1112.06,\n",
       "       1119.46, 1117.54, 1058.34, 1083.96, 1084.3 , 1099.12, 1112.2 ,\n",
       "       1096.82, 1098.5 , 1091.88, 1099.74, 1073.22, 1098.2 , 1101.62,\n",
       "       1086.58, 1097.08, 1104.96, 1100.12, 1129.88, 1097.36, 1102.22,\n",
       "       1123.94, 1099.58, 1115.98, 1086.14, 1088.68, 1068.82, 1118.92,\n",
       "       1097.12, 1087.  , 1098.76, 1103.46, 1102.7 , 1116.16, 1106.8 ,\n",
       "       1098.5 , 1074.68, 1116.88, 1101.22, 1122.28, 1083.54, 1092.72,\n",
       "       1116.22, 1105.3 , 1103.72, 1064.42, 1132.14, 1132.12, 1107.56,\n",
       "       1081.04, 1081.56, 1103.5 , 1066.5 , 1115.78, 1102.42, 1090.66,\n",
       "       1099.98, 1083.06, 1088.82, 1135.24, 1089.42, 1084.58, 1088.38,\n",
       "       1098.24, 1109.46, 1105.54, 1097.94, 1108.78, 1087.24, 1126.48,\n",
       "       1114.74, 1082.8 , 1106.98, 1098.78, 1099.12, 1079.48, 1115.74,\n",
       "       1118.56, 1117.72, 1069.12, 1092.88, 1120.86, 1092.34, 1122.28,\n",
       "       1118.62, 1125.2 ])"
      ]
     },
     "execution_count": 11,
     "metadata": {},
     "output_type": "execute_result"
    }
   ],
   "source": [
    "sampling_mean = samples.mean(axis = 1)\n",
    "sampling_mean"
   ]
  },
  {
   "cell_type": "code",
   "execution_count": 12,
   "id": "20881e50",
   "metadata": {
    "execution": {
     "iopub.execute_input": "2023-12-19T22:00:33.961382Z",
     "iopub.status.busy": "2023-12-19T22:00:33.960896Z",
     "iopub.status.idle": "2023-12-19T22:00:34.880157Z",
     "shell.execute_reply": "2023-12-19T22:00:34.878894Z"
    },
    "papermill": {
     "duration": 0.937311,
     "end_time": "2023-12-19T22:00:34.884153",
     "exception": false,
     "start_time": "2023-12-19T22:00:33.946842",
     "status": "completed"
    },
    "tags": []
   },
   "outputs": [
    {
     "data": {
      "text/plain": [
       "<Axes: ylabel='Density'>"
      ]
     },
     "execution_count": 12,
     "metadata": {},
     "output_type": "execute_result"
    },
    {
     "data": {
      "image/png": "[encoded data removed]",
      "text/plain": [
       "<Figure size 640x480 with 1 Axes>"
      ]
     },
     "metadata": {},
     "output_type": "display_data"
    }
   ],
   "source": [
    "import seaborn as sns\n",
    "sns.kdeplot(sampling_mean)"
   ]
  },
  {
   "cell_type": "code",
   "execution_count": 13,
   "id": "9f4f8438",
   "metadata": {
    "execution": {
     "iopub.execute_input": "2023-12-19T22:00:34.913908Z",
     "iopub.status.busy": "2023-12-19T22:00:34.912725Z",
     "iopub.status.idle": "2023-12-19T22:00:34.925283Z",
     "shell.execute_reply": "2023-12-19T22:00:34.922532Z"
    },
    "papermill": {
     "duration": 0.03328,
     "end_time": "2023-12-19T22:00:34.930944",
     "exception": false,
     "start_time": "2023-12-19T22:00:34.897664",
     "status": "completed"
    },
    "tags": []
   },
   "outputs": [
    {
     "data": {
      "text/plain": [
       "1100.1924"
      ]
     },
     "execution_count": 13,
     "metadata": {},
     "output_type": "execute_result"
    }
   ],
   "source": [
    "sampling_mean.mean()"
   ]
  },
  {
   "cell_type": "code",
   "execution_count": 14,
   "id": "685cc0b3",
   "metadata": {
    "execution": {
     "iopub.execute_input": "2023-12-19T22:00:34.965656Z",
     "iopub.status.busy": "2023-12-19T22:00:34.964016Z",
     "iopub.status.idle": "2023-12-19T22:00:35.360161Z",
     "shell.execute_reply": "2023-12-19T22:00:35.358000Z"
    },
    "papermill": {
     "duration": 0.417829,
     "end_time": "2023-12-19T22:00:35.363852",
     "exception": false,
     "start_time": "2023-12-19T22:00:34.946023",
     "status": "completed"
    },
    "tags": []
   },
   "outputs": [
    {
     "data": {
      "text/plain": [
       "<Axes: ylabel='Density'>"
      ]
     },
     "execution_count": 14,
     "metadata": {},
     "output_type": "execute_result"
    },
    {
     "data": {
      "image/png": "[encoded data removed]",
      "text/plain": [
       "<Figure size 640x480 with 1 Axes>"
      ]
     },
     "metadata": {},
     "output_type": "display_data"
    }
   ],
   "source": [
    "sns.kdeplot(sampling_mean)"
   ]
  },
  {
   "cell_type": "code",
   "execution_count": 15,
   "id": "f0054be9",
   "metadata": {
    "execution": {
     "iopub.execute_input": "2023-12-19T22:00:35.394763Z",
     "iopub.status.busy": "2023-12-19T22:00:35.393471Z",
     "iopub.status.idle": "2023-12-19T22:00:35.405350Z",
     "shell.execute_reply": "2023-12-19T22:00:35.403749Z"
    },
    "papermill": {
     "duration": 0.030692,
     "end_time": "2023-12-19T22:00:35.408849",
     "exception": false,
     "start_time": "2023-12-19T22:00:35.378157",
     "status": "completed"
    },
    "tags": []
   },
   "outputs": [
    {
     "data": {
      "text/plain": [
       "2.307403520149869"
      ]
     },
     "execution_count": 15,
     "metadata": {},
     "output_type": "execute_result"
    }
   ],
   "source": [
    "sampling_mean.std() / np.sqrt(50)"
   ]
  },
  {
   "cell_type": "code",
   "execution_count": 16,
   "id": "e7ffe2ca",
   "metadata": {
    "execution": {
     "iopub.execute_input": "2023-12-19T22:00:35.440003Z",
     "iopub.status.busy": "2023-12-19T22:00:35.438375Z",
     "iopub.status.idle": "2023-12-19T22:00:35.448694Z",
     "shell.execute_reply": "2023-12-19T22:00:35.446618Z"
    },
    "papermill": {
     "duration": 0.029908,
     "end_time": "2023-12-19T22:00:35.452445",
     "exception": false,
     "start_time": "2023-12-19T22:00:35.422537",
     "status": "completed"
    },
    "tags": []
   },
   "outputs": [
    {
     "name": "stdout",
     "output_type": "stream",
     "text": [
      "The range is 1095.5775929597003 - 1104.8072070402995\n"
     ]
    }
   ],
   "source": [
    "lower_limit = sampling_mean.mean() - 2 * sampling_mean.std() / np.sqrt(50)\n",
    "upper_limit = sampling_mean.mean() + 2 * sampling_mean.std() / np.sqrt(50)\n",
    "print('The range is', lower_limit, '-', upper_limit)"
   ]
  },
  {
   "cell_type": "code",
   "execution_count": 17,
   "id": "dd80ede2",
   "metadata": {
    "execution": {
     "iopub.execute_input": "2023-12-19T22:00:35.480001Z",
     "iopub.status.busy": "2023-12-19T22:00:35.478312Z",
     "iopub.status.idle": "2023-12-19T22:00:35.487220Z",
     "shell.execute_reply": "2023-12-19T22:00:35.485794Z"
    },
    "papermill": {
     "duration": 0.025668,
     "end_time": "2023-12-19T22:00:35.490194",
     "exception": false,
     "start_time": "2023-12-19T22:00:35.464526",
     "status": "completed"
    },
    "tags": []
   },
   "outputs": [
    {
     "data": {
      "text/plain": [
       "1100.5"
      ]
     },
     "execution_count": 17,
     "metadata": {},
     "output_type": "execute_result"
    }
   ],
   "source": [
    "# Find PassengerId's mean\n",
    "PassengerId_mean = data['PassengerId'].mean()\n",
    "PassengerId_mean"
   ]
  },
  {
   "cell_type": "markdown",
   "id": "66f45e34",
   "metadata": {
    "papermill": {
     "duration": 0.012979,
     "end_time": "2023-12-19T22:00:35.516850",
     "exception": false,
     "start_time": "2023-12-19T22:00:35.503871",
     "status": "completed"
    },
    "tags": []
   },
   "source": [
    "**Sampling Distribution**\n",
    "it is a kind of representation in probability distribution of mean , std and variance\n",
    "where we calculate multiple samples that is drawn from the same population, it is used in \n",
    "statical analysis and hypothesis testing\n",
    "\n",
    "**Central limit theorem(CLT)**\n",
    "The central limit theorem states that the distribution of the sample means of a large number\n",
    "of independent and identically distributed random variable approach will approach a normal distribution\n",
    ", regardless of the underlying distribution of the variables.\n",
    "**The condition required for the CLT(Central limit theorem) to hold are**\n",
    "1. The sample size is large enough , typically greater than equal to 30.\n",
    "2. The sample is drawn from a finite population or an infinite population\n",
    "   with a finite variance.\n",
    "3. The random variables in the sample are independent and identically distributed.\n",
    "\n",
    "Note:=>  CLT is important in statistics and Machine learning we can use CLT to construct confidence intervals,\n",
    "perform hypothesis tests, and make prediction about the population mean based on the sample data, CLT provides\n",
    "a theoretical Justification such as T-Test, ANOVA and Linear Regression.\n",
    "\n",
    "**In this workbook I have imported the titenic dataset and performed all these statical calculation on \"PassengerId\" column**"
   ]
  },
  {
   "cell_type": "code",
   "execution_count": null,
   "id": "392b056f",
   "metadata": {
    "papermill": {
     "duration": 0.012444,
     "end_time": "2023-12-19T22:00:35.542209",
     "exception": false,
     "start_time": "2023-12-19T22:00:35.529765",
     "status": "completed"
    },
    "tags": []
   },
   "outputs": [],
   "source": []
  }
 ],
 "metadata": {
  "kaggle": {
   "accelerator": "none",
   "dataSources": [
    {
     "sourceId": 46162104,
     "sourceType": "kernelVersion"
    }
   ],
   "dockerImageVersionId": 30626,
   "isGpuEnabled": false,
   "isInternetEnabled": false,
   "language": "python",
   "sourceType": "notebook"
  },
  "kernelspec": {
   "display_name": "Python 3",
   "language": "python",
   "name": "python3"
  },
  "language_info": {
   "codemirror_mode": {
    "name": "ipython",
    "version": 3
   },
   "file_extension": ".py",
   "mimetype": "text/x-python",
   "name": "python",
   "nbconvert_exporter": "python",
   "pygments_lexer": "ipython3",
   "version": "3.10.12"
  },
  "papermill": {
   "default_parameters": {},
   "duration": 9.697294,
   "end_time": "2023-12-19T22:00:36.482844",
   "environment_variables": {},
   "exception": null,
   "input_path": "__notebook__.ipynb",
   "output_path": "__notebook__.ipynb",
   "parameters": {},
   "start_time": "2023-12-19T22:00:26.785550",
   "version": "2.4.0"
  }
 },
 "nbformat": 4,
 "nbformat_minor": 5
}
