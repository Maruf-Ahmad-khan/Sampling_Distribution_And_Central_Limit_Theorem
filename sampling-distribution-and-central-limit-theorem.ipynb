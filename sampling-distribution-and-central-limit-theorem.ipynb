{
 "cells": [
  {
   "cell_type": "code",
   "execution_count": 1,
   "id": "9ec2137a",
   "metadata": {
    "_cell_guid": "b1076dfc-b9ad-4769-8c92-a6c4dae69d19",
    "_uuid": "8f2839f25d086af736a60e9eeb907d3b93b6e0e5",
    "execution": {
     "iopub.execute_input": "2023-12-19T22:01:04.847318Z",
     "iopub.status.busy": "2023-12-19T22:01:04.846953Z",
     "iopub.status.idle": "2023-12-19T22:01:05.183886Z",
     "shell.execute_reply": "2023-12-19T22:01:05.181736Z"
    },
    "papermill": {
     "duration": 0.346207,
     "end_time": "2023-12-19T22:01:05.186306",
     "exception": false,
     "start_time": "2023-12-19T22:01:04.840099",
     "status": "completed"
    },
    "tags": []
   },
   "outputs": [
    {
     "name": "stdout",
     "output_type": "stream",
     "text": [
      "/kaggle/input/titenic/submission4.csv\n",
      "/kaggle/input/titenic/__results__.html\n",
      "/kaggle/input/titenic/__notebook__.ipynb\n",
      "/kaggle/input/titenic/__output__.json\n",
      "/kaggle/input/titenic/custom.css\n",
      "/kaggle/input/titenic/__results___files/__results___15_1.png\n",
      "/kaggle/input/titenic/__results___files/__results___22_1.png\n"
     ]
    }
   ],
   "source": [
    "# This Python 3 environment comes with many helpful analytics libraries installed\n",
    "# It is defined by the kaggle/python Docker image: https://github.com/kaggle/docker-python\n",
    "# For example, here's several helpful packages to load\n",
    "\n",
    "import numpy as np # linear algebra\n",
    "import pandas as pd # data processing, CSV file I/O (e.g. pd.read_csv)\n",
    "\n",
    "# Input data files are available in the read-only \"../input/\" directory\n",
    "# For example, running this (by clicking run or pressing Shift+Enter) will list all files under the input directory\n",
    "\n",
    "import os\n",
    "for dirname, _, filenames in os.walk('/kaggle/input'):\n",
    "    for filename in filenames:\n",
    "        print(os.path.join(dirname, filename))\n",
    "\n",
    "# You can write up to 20GB to the current directory (/kaggle/working/) that gets preserved as output when you create a version using \"Save & Run All\" \n",
    "# You can also write temporary files to /kaggle/temp/, but they won't be saved outside of the current session"
   ]
  },
  {
   "cell_type": "code",
   "execution_count": 2,
   "id": "4a712217",
   "metadata": {
    "execution": {
     "iopub.execute_input": "2023-12-19T22:01:05.197244Z",
     "iopub.status.busy": "2023-12-19T22:01:05.196768Z",
     "iopub.status.idle": "2023-12-19T22:01:05.229927Z",
     "shell.execute_reply": "2023-12-19T22:01:05.228562Z"
    },
    "papermill": {
     "duration": 0.041105,
     "end_time": "2023-12-19T22:01:05.232157",
     "exception": false,
     "start_time": "2023-12-19T22:01:05.191052",
     "status": "completed"
    },
    "tags": []
   },
   "outputs": [
    {
     "data": {
      "text/html": [
       "<div>\n",
       "<style scoped>\n",
       "    .dataframe tbody tr th:only-of-type {\n",
       "        vertical-align: middle;\n",
       "    }\n",
       "\n",
       "    .dataframe tbody tr th {\n",
       "        vertical-align: top;\n",
       "    }\n",
       "\n",
       "    .dataframe thead th {\n",
       "        text-align: right;\n",
       "    }\n",
       "</style>\n",
       "<table border=\"1\" class=\"dataframe\">\n",
       "  <thead>\n",
       "    <tr style=\"text-align: right;\">\n",
       "      <th></th>\n",
       "      <th>PassengerId</th>\n",
       "      <th>Survived</th>\n",
       "    </tr>\n",
       "  </thead>\n",
       "  <tbody>\n",
       "    <tr>\n",
       "      <th>0</th>\n",
       "      <td>892</td>\n",
       "      <td>0</td>\n",
       "    </tr>\n",
       "    <tr>\n",
       "      <th>1</th>\n",
       "      <td>893</td>\n",
       "      <td>1</td>\n",
       "    </tr>\n",
       "    <tr>\n",
       "      <th>2</th>\n",
       "      <td>894</td>\n",
       "      <td>0</td>\n",
       "    </tr>\n",
       "    <tr>\n",
       "      <th>3</th>\n",
       "      <td>895</td>\n",
       "      <td>0</td>\n",
       "    </tr>\n",
       "    <tr>\n",
       "      <th>4</th>\n",
       "      <td>896</td>\n",
       "      <td>1</td>\n",
       "    </tr>\n",
       "    <tr>\n",
       "      <th>...</th>\n",
       "      <td>...</td>\n",
       "      <td>...</td>\n",
       "    </tr>\n",
       "    <tr>\n",
       "      <th>413</th>\n",
       "      <td>1305</td>\n",
       "      <td>0</td>\n",
       "    </tr>\n",
       "    <tr>\n",
       "      <th>414</th>\n",
       "      <td>1306</td>\n",
       "      <td>1</td>\n",
       "    </tr>\n",
       "    <tr>\n",
       "      <th>415</th>\n",
       "      <td>1307</td>\n",
       "      <td>0</td>\n",
       "    </tr>\n",
       "    <tr>\n",
       "      <th>416</th>\n",
       "      <td>1308</td>\n",
       "      <td>0</td>\n",
       "    </tr>\n",
       "    <tr>\n",
       "      <th>417</th>\n",
       "      <td>1309</td>\n",
       "      <td>0</td>\n",
       "    </tr>\n",
       "  </tbody>\n",
       "</table>\n",
       "<p>418 rows × 2 columns</p>\n",
       "</div>"
      ],
      "text/plain": [
       "     PassengerId  Survived\n",
       "0            892         0\n",
       "1            893         1\n",
       "2            894         0\n",
       "3            895         0\n",
       "4            896         1\n",
       "..           ...       ...\n",
       "413         1305         0\n",
       "414         1306         1\n",
       "415         1307         0\n",
       "416         1308         0\n",
       "417         1309         0\n",
       "\n",
       "[418 rows x 2 columns]"
      ]
     },
     "execution_count": 2,
     "metadata": {},
     "output_type": "execute_result"
    }
   ],
   "source": [
    "data = pd.read_csv('/kaggle/input/titenic/submission4.csv')\n",
    "data"
   ]
  },
  {
   "cell_type": "code",
   "execution_count": 3,
   "id": "9db79f3b",
   "metadata": {
    "execution": {
     "iopub.execute_input": "2023-12-19T22:01:05.244039Z",
     "iopub.status.busy": "2023-12-19T22:01:05.243213Z",
     "iopub.status.idle": "2023-12-19T22:01:05.250014Z",
     "shell.execute_reply": "2023-12-19T22:01:05.249110Z"
    },
    "papermill": {
     "duration": 0.015731,
     "end_time": "2023-12-19T22:01:05.252790",
     "exception": false,
     "start_time": "2023-12-19T22:01:05.237059",
     "status": "completed"
    },
    "tags": []
   },
   "outputs": [
    {
     "data": {
      "text/plain": [
       "0    892\n",
       "1    893\n",
       "2    894\n",
       "3    895\n",
       "4    896\n",
       "Name: PassengerId, dtype: int64"
      ]
     },
     "execution_count": 3,
     "metadata": {},
     "output_type": "execute_result"
    }
   ],
   "source": [
    "# show the first 5 values of PassengerId attribute\n",
    "data['PassengerId'].head()"
   ]
  },
  {
   "cell_type": "code",
   "execution_count": 4,
   "id": "81a0fe7f",
   "metadata": {
    "execution": {
     "iopub.execute_input": "2023-12-19T22:01:05.264367Z",
     "iopub.status.busy": "2023-12-19T22:01:05.264015Z",
     "iopub.status.idle": "2023-12-19T22:01:05.272580Z",
     "shell.execute_reply": "2023-12-19T22:01:05.271680Z"
    },
    "papermill": {
     "duration": 0.016682,
     "end_time": "2023-12-19T22:01:05.274444",
     "exception": false,
     "start_time": "2023-12-19T22:01:05.257762",
     "status": "completed"
    },
    "tags": []
   },
   "outputs": [
    {
     "data": {
      "text/plain": [
       "0"
      ]
     },
     "execution_count": 4,
     "metadata": {},
     "output_type": "execute_result"
    }
   ],
   "source": [
    "# to check null values PassengerId attribute\n",
    "data['PassengerId'].isnull().sum()"
   ]
  },
  {
   "cell_type": "code",
   "execution_count": 5,
   "id": "ac79986d",
   "metadata": {
    "execution": {
     "iopub.execute_input": "2023-12-19T22:01:05.287315Z",
     "iopub.status.busy": "2023-12-19T22:01:05.286185Z",
     "iopub.status.idle": "2023-12-19T22:01:05.293284Z",
     "shell.execute_reply": "2023-12-19T22:01:05.292506Z"
    },
    "papermill": {
     "duration": 0.015665,
     "end_time": "2023-12-19T22:01:05.295074",
     "exception": false,
     "start_time": "2023-12-19T22:01:05.279409",
     "status": "completed"
    },
    "tags": []
   },
   "outputs": [
    {
     "data": {
      "text/plain": [
       "1100.5"
      ]
     },
     "execution_count": 5,
     "metadata": {},
     "output_type": "execute_result"
    }
   ],
   "source": [
    "# Find PassengerId's mean\n",
    "PassengerId_mean = data['PassengerId'].mean()\n",
    "PassengerId_mean"
   ]
  },
  {
   "cell_type": "code",
   "execution_count": 6,
   "id": "9151c482",
   "metadata": {
    "execution": {
     "iopub.execute_input": "2023-12-19T22:01:05.308211Z",
     "iopub.status.busy": "2023-12-19T22:01:05.306874Z",
     "iopub.status.idle": "2023-12-19T22:01:05.314317Z",
     "shell.execute_reply": "2023-12-19T22:01:05.313672Z"
    },
    "papermill": {
     "duration": 0.015831,
     "end_time": "2023-12-19T22:01:05.316325",
     "exception": false,
     "start_time": "2023-12-19T22:01:05.300494",
     "status": "completed"
    },
    "tags": []
   },
   "outputs": [
    {
     "data": {
      "text/plain": [
       "120.81045760473994"
      ]
     },
     "execution_count": 6,
     "metadata": {},
     "output_type": "execute_result"
    }
   ],
   "source": [
    "# Find PassengerId's std\n",
    "PassengerId_std = data['PassengerId'].std()\n",
    "PassengerId_std"
   ]
  },
  {
   "cell_type": "code",
   "execution_count": 7,
   "id": "84c4708e",
   "metadata": {
    "execution": {
     "iopub.execute_input": "2023-12-19T22:01:05.328306Z",
     "iopub.status.busy": "2023-12-19T22:01:05.327960Z",
     "iopub.status.idle": "2023-12-19T22:01:06.715486Z",
     "shell.execute_reply": "2023-12-19T22:01:06.713941Z"
    },
    "papermill": {
     "duration": 1.396653,
     "end_time": "2023-12-19T22:01:06.718218",
     "exception": false,
     "start_time": "2023-12-19T22:01:05.321565",
     "status": "completed"
    },
    "tags": []
   },
   "outputs": [
    {
     "data": {
      "text/plain": [
       "<Axes: ylabel='Density'>"
      ]
     },
     "execution_count": 7,
     "metadata": {},
     "output_type": "execute_result"
    },
    {
     "data": {
      "image/png": "[encoded data removed]",
      "text/plain": [
       "<Figure size 640x480 with 1 Axes>"
      ]
     },
     "metadata": {},
     "output_type": "display_data"
    }
   ],
   "source": [
    "# distribution of PassengerId \n",
    "import matplotlib.pyplot as plt\n",
    "data['PassengerId'].plot(kind = 'kde')"
   ]
  },
  {
   "cell_type": "code",
   "execution_count": 8,
   "id": "220ee6d8",
   "metadata": {
    "execution": {
     "iopub.execute_input": "2023-12-19T22:01:06.731127Z",
     "iopub.status.busy": "2023-12-19T22:01:06.730766Z",
     "iopub.status.idle": "2023-12-19T22:01:06.750223Z",
     "shell.execute_reply": "2023-12-19T22:01:06.748802Z"
    },
    "papermill": {
     "duration": 0.028896,
     "end_time": "2023-12-19T22:01:06.752798",
     "exception": false,
     "start_time": "2023-12-19T22:01:06.723902",
     "status": "completed"
    },
    "tags": []
   },
   "outputs": [],
   "source": [
    "# Sample of 50 people and convert them into list\n",
    "samples = []\n",
    "for i in range(100):\n",
    "    samples.append(data['PassengerId'].sample(50).values.tolist())"
   ]
  },
  {
   "cell_type": "code",
   "execution_count": 9,
   "id": "192b6855",
   "metadata": {
    "execution": {
     "iopub.execute_input": "2023-12-19T22:01:06.765828Z",
     "iopub.status.busy": "2023-12-19T22:01:06.765430Z",
     "iopub.status.idle": "2023-12-19T22:01:06.772861Z",
     "shell.execute_reply": "2023-12-19T22:01:06.772159Z"
    },
    "papermill": {
     "duration": 0.016544,
     "end_time": "2023-12-19T22:01:06.775053",
     "exception": false,
     "start_time": "2023-12-19T22:01:06.758509",
     "status": "completed"
    },
    "tags": []
   },
   "outputs": [
    {
     "data": {
      "text/plain": [
       "100"
      ]
     },
     "execution_count": 9,
     "metadata": {},
     "output_type": "execute_result"
    }
   ],
   "source": [
    "len(samples)"
   ]
  },
  {
   "cell_type": "code",
   "execution_count": 10,
   "id": "a771f572",
   "metadata": {
    "execution": {
     "iopub.execute_input": "2023-12-19T22:01:06.788003Z",
     "iopub.status.busy": "2023-12-19T22:01:06.787421Z",
     "iopub.status.idle": "2023-12-19T22:01:06.793219Z",
     "shell.execute_reply": "2023-12-19T22:01:06.792499Z"
    },
    "papermill": {
     "duration": 0.014275,
     "end_time": "2023-12-19T22:01:06.794953",
     "exception": false,
     "start_time": "2023-12-19T22:01:06.780678",
     "status": "completed"
    },
    "tags": []
   },
   "outputs": [
    {
     "data": {
      "text/plain": [
       "array([[1024,  989, 1268, ...,  964,  951,  929],\n",
       "       [ 936, 1148, 1109, ..., 1285,  965, 1169],\n",
       "       [1110, 1061, 1013, ..., 1230, 1266, 1246],\n",
       "       ...,\n",
       "       [1190,  933, 1068, ..., 1244, 1108, 1001],\n",
       "       [1202,  968, 1150, ..., 1111,  977,  898],\n",
       "       [1142, 1229, 1222, ..., 1023,  952, 1006]])"
      ]
     },
     "execution_count": 10,
     "metadata": {},
     "output_type": "execute_result"
    }
   ],
   "source": [
    "samples = np.array(samples)\n",
    "samples"
   ]
  },
  {
   "cell_type": "code",
   "execution_count": 11,
   "id": "78445a96",
   "metadata": {
    "execution": {
     "iopub.execute_input": "2023-12-19T22:01:06.808338Z",
     "iopub.status.busy": "2023-12-19T22:01:06.807682Z",
     "iopub.status.idle": "2023-12-19T22:01:06.814864Z",
     "shell.execute_reply": "2023-12-19T22:01:06.813213Z"
    },
    "papermill": {
     "duration": 0.016329,
     "end_time": "2023-12-19T22:01:06.816927",
     "exception": false,
     "start_time": "2023-12-19T22:01:06.800598",
     "status": "completed"
    },
    "tags": []
   },
   "outputs": [
    {
     "data": {
      "text/plain": [
       "array([1088.62, 1126.72, 1114.36, 1098.38, 1096.32, 1104.36, 1088.22,\n",
       "       1083.64, 1118.98, 1085.4 , 1076.76, 1065.54, 1103.8 , 1081.  ,\n",
       "       1105.54, 1122.96, 1079.6 , 1098.12, 1129.7 , 1098.96, 1100.36,\n",
       "       1113.44, 1088.4 , 1081.62, 1069.66, 1113.04, 1094.02, 1111.96,\n",
       "       1093.38, 1095.96, 1107.88, 1102.3 , 1079.96, 1095.18, 1109.62,\n",
       "       1123.84, 1109.84, 1085.76, 1093.1 , 1097.54, 1124.  , 1104.72,\n",
       "       1110.4 , 1078.7 , 1101.44, 1104.06, 1097.36, 1101.36, 1081.04,\n",
       "       1095.58, 1098.66, 1101.08, 1107.48, 1094.32, 1091.38, 1068.48,\n",
       "       1113.24, 1102.42, 1112.72, 1123.36, 1113.36, 1097.46, 1091.7 ,\n",
       "       1073.5 , 1098.2 , 1104.88, 1097.38, 1105.64, 1102.16, 1145.  ,\n",
       "       1102.8 , 1084.06, 1091.58, 1101.4 , 1103.52, 1087.76, 1101.54,\n",
       "       1088.72, 1120.74, 1083.08, 1080.16, 1105.28, 1097.7 , 1128.8 ,\n",
       "       1106.92, 1086.04, 1125.02, 1128.26, 1070.86, 1092.04, 1092.94,\n",
       "       1117.36, 1127.76, 1088.62, 1082.94, 1095.62, 1115.92, 1093.4 ,\n",
       "       1115.  , 1110.28])"
      ]
     },
     "execution_count": 11,
     "metadata": {},
     "output_type": "execute_result"
    }
   ],
   "source": [
    "sampling_mean = samples.mean(axis = 1)\n",
    "sampling_mean"
   ]
  },
  {
   "cell_type": "code",
   "execution_count": 12,
   "id": "339bdcc2",
   "metadata": {
    "execution": {
     "iopub.execute_input": "2023-12-19T22:01:06.830749Z",
     "iopub.status.busy": "2023-12-19T22:01:06.830320Z",
     "iopub.status.idle": "2023-12-19T22:01:07.496518Z",
     "shell.execute_reply": "2023-12-19T22:01:07.495167Z"
    },
    "papermill": {
     "duration": 0.675926,
     "end_time": "2023-12-19T22:01:07.498738",
     "exception": false,
     "start_time": "2023-12-19T22:01:06.822812",
     "status": "completed"
    },
    "tags": []
   },
   "outputs": [
    {
     "data": {
      "text/plain": [
       "<Axes: ylabel='Density'>"
      ]
     },
     "execution_count": 12,
     "metadata": {},
     "output_type": "execute_result"
    },
    {
     "data": {
      "image/png": "[encoded data removed]",
      "text/plain": [
       "<Figure size 640x480 with 1 Axes>"
      ]
     },
     "metadata": {},
     "output_type": "display_data"
    }
   ],
   "source": [
    "import seaborn as sns\n",
    "sns.kdeplot(sampling_mean)"
   ]
  },
  {
   "cell_type": "code",
   "execution_count": 13,
   "id": "499fb9bf",
   "metadata": {
    "execution": {
     "iopub.execute_input": "2023-12-19T22:01:07.513046Z",
     "iopub.status.busy": "2023-12-19T22:01:07.512699Z",
     "iopub.status.idle": "2023-12-19T22:01:07.519637Z",
     "shell.execute_reply": "2023-12-19T22:01:07.518669Z"
    },
    "papermill": {
     "duration": 0.01682,
     "end_time": "2023-12-19T22:01:07.521990",
     "exception": false,
     "start_time": "2023-12-19T22:01:07.505170",
     "status": "completed"
    },
    "tags": []
   },
   "outputs": [
    {
     "data": {
      "text/plain": [
       "1100.0104"
      ]
     },
     "execution_count": 13,
     "metadata": {},
     "output_type": "execute_result"
    }
   ],
   "source": [
    "sampling_mean.mean()"
   ]
  },
  {
   "cell_type": "code",
   "execution_count": 14,
   "id": "ce4cc762",
   "metadata": {
    "execution": {
     "iopub.execute_input": "2023-12-19T22:01:07.536996Z",
     "iopub.status.busy": "2023-12-19T22:01:07.536623Z",
     "iopub.status.idle": "2023-12-19T22:01:07.741676Z",
     "shell.execute_reply": "2023-12-19T22:01:07.740218Z"
    },
    "papermill": {
     "duration": 0.21496,
     "end_time": "2023-12-19T22:01:07.743639",
     "exception": false,
     "start_time": "2023-12-19T22:01:07.528679",
     "status": "completed"
    },
    "tags": []
   },
   "outputs": [
    {
     "data": {
      "text/plain": [
       "<Axes: ylabel='Density'>"
      ]
     },
     "execution_count": 14,
     "metadata": {},
     "output_type": "execute_result"
    },
    {
     "data": {
      "image/png": "[encoded data removed]",
      "text/plain": [
       "<Figure size 640x480 with 1 Axes>"
      ]
     },
     "metadata": {},
     "output_type": "display_data"
    }
   ],
   "source": [
    "sns.kdeplot(sampling_mean)"
   ]
  },
  {
   "cell_type": "code",
   "execution_count": 15,
   "id": "f2e8917a",
   "metadata": {
    "execution": {
     "iopub.execute_input": "2023-12-19T22:01:07.758589Z",
     "iopub.status.busy": "2023-12-19T22:01:07.758248Z",
     "iopub.status.idle": "2023-12-19T22:01:07.764439Z",
     "shell.execute_reply": "2023-12-19T22:01:07.763652Z"
    },
    "papermill": {
     "duration": 0.015942,
     "end_time": "2023-12-19T22:01:07.766351",
     "exception": false,
     "start_time": "2023-12-19T22:01:07.750409",
     "status": "completed"
    },
    "tags": []
   },
   "outputs": [
    {
     "data": {
      "text/plain": [
       "2.1703212473733005"
      ]
     },
     "execution_count": 15,
     "metadata": {},
     "output_type": "execute_result"
    }
   ],
   "source": [
    "sampling_mean.std() / np.sqrt(50)"
   ]
  },
  {
   "cell_type": "code",
   "execution_count": 16,
   "id": "34cffbb7",
   "metadata": {
    "execution": {
     "iopub.execute_input": "2023-12-19T22:01:07.783138Z",
     "iopub.status.busy": "2023-12-19T22:01:07.782751Z",
     "iopub.status.idle": "2023-12-19T22:01:07.789857Z",
     "shell.execute_reply": "2023-12-19T22:01:07.788577Z"
    },
    "papermill": {
     "duration": 0.017595,
     "end_time": "2023-12-19T22:01:07.792216",
     "exception": false,
     "start_time": "2023-12-19T22:01:07.774621",
     "status": "completed"
    },
    "tags": []
   },
   "outputs": [
    {
     "name": "stdout",
     "output_type": "stream",
     "text": [
      "The range is 1095.6697575052533 - 1104.3510424947465\n"
     ]
    }
   ],
   "source": [
    "lower_limit = sampling_mean.mean() - 2 * sampling_mean.std() / np.sqrt(50)\n",
    "upper_limit = sampling_mean.mean() + 2 * sampling_mean.std() / np.sqrt(50)\n",
    "print('The range is', lower_limit, '-', upper_limit)"
   ]
  },
  {
   "cell_type": "code",
   "execution_count": 17,
   "id": "56734f02",
   "metadata": {
    "execution": {
     "iopub.execute_input": "2023-12-19T22:01:07.809574Z",
     "iopub.status.busy": "2023-12-19T22:01:07.808558Z",
     "iopub.status.idle": "2023-12-19T22:01:07.815837Z",
     "shell.execute_reply": "2023-12-19T22:01:07.814689Z"
    },
    "papermill": {
     "duration": 0.017753,
     "end_time": "2023-12-19T22:01:07.817662",
     "exception": false,
     "start_time": "2023-12-19T22:01:07.799909",
     "status": "completed"
    },
    "tags": []
   },
   "outputs": [
    {
     "data": {
      "text/plain": [
       "1100.5"
      ]
     },
     "execution_count": 17,
     "metadata": {},
     "output_type": "execute_result"
    }
   ],
   "source": [
    "# Find PassengerId's mean\n",
    "PassengerId_mean = data['PassengerId'].mean()\n",
    "PassengerId_mean"
   ]
  },
  {
   "cell_type": "markdown",
   "id": "d08ce6ee",
   "metadata": {
    "papermill": {
     "duration": 0.006722,
     "end_time": "2023-12-19T22:01:07.832144",
     "exception": false,
     "start_time": "2023-12-19T22:01:07.825422",
     "status": "completed"
    },
    "tags": []
   },
   "source": [
    "**Sampling Distribution**\n",
    "it is a kind of representation in probability distribution of mean , std and variance\n",
    "where we calculate multiple samples that is drawn from the same population, it is used in \n",
    "statical analysis and hypothesis testing\n",
    "\n",
    "**Central limit theorem(CLT)**\n",
    "The central limit theorem states that the distribution of the sample means of a large number\n",
    "of independent and identically distributed random variable approach will approach a normal distribution\n",
    ", regardless of the underlying distribution of the variables.\n",
    "**The condition required for the CLT(Central limit theorem) to hold are**\n",
    "1. The sample size is large enough , typically greater than equal to 30.\n",
    "2. The sample is drawn from a finite population or an infinite population\n",
    "   with a finite variance.\n",
    "3. The random variables in the sample are independent and identically distributed.\n",
    "\n",
    "Note:=>  CLT is important in statistics and Machine learning we can use CLT to construct confidence intervals,\n",
    "perform hypothesis tests, and make prediction about the population mean based on the sample data, CLT provides\n",
    "a theoretical Justification such as T-Test, ANOVA and Linear Regression.\n",
    "\n",
    "**In this workbook I have imported the titenic dataset and performed all these statical calculation on \"PassengerId\" column**"
   ]
  },
  {
   "cell_type": "code",
   "execution_count": null,
   "id": "63df9137",
   "metadata": {
    "papermill": {
     "duration": 0.007046,
     "end_time": "2023-12-19T22:01:07.846424",
     "exception": false,
     "start_time": "2023-12-19T22:01:07.839378",
     "status": "completed"
    },
    "tags": []
   },
   "outputs": [],
   "source": []
  }
 ],
 "metadata": {
  "kaggle": {
   "accelerator": "none",
   "dataSources": [
    {
     "sourceId": 46162104,
     "sourceType": "kernelVersion"
    }
   ],
   "dockerImageVersionId": 30626,
   "isGpuEnabled": false,
   "isInternetEnabled": false,
   "language": "python",
   "sourceType": "notebook"
  },
  "kernelspec": {
   "display_name": "Python 3",
   "language": "python",
   "name": "python3"
  },
  "language_info": {
   "codemirror_mode": {
    "name": "ipython",
    "version": 3
   },
   "file_extension": ".py",
   "mimetype": "text/x-python",
   "name": "python",
   "nbconvert_exporter": "python",
   "pygments_lexer": "ipython3",
   "version": "3.10.12"
  },
  "papermill": {
   "default_parameters": {},
   "duration": 6.389454,
   "end_time": "2023-12-19T22:01:08.475418",
   "environment_variables": {},
   "exception": null,
   "input_path": "__notebook__.ipynb",
   "output_path": "__notebook__.ipynb",
   "parameters": {},
   "start_time": "2023-12-19T22:01:02.085964",
   "version": "2.4.0"
  }
 },
 "nbformat": 4,
 "nbformat_minor": 5
}
